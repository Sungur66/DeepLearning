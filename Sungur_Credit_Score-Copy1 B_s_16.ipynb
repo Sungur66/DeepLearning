{
 "cells": [
  {
   "cell_type": "markdown",
   "id": "a041e2ce",
   "metadata": {},
   "source": [
    "<p style=\"background-color:#3ab1c8;font-family:Cursive;font-size:200%;color:black;text-align:center;border-radius:120px 20px;padding:20px;margin:20px;\"><b>Capstone_Project_Credit_Score</b></p>\n",
    "\n",
    "<p style=\"font-family:Cursive;font-size:100%;color:black;text-align:center;border-radius:10px 10px;\"><b>by Nash</b></p>\n",
    "\n",
    "<b style=\"font-family:Cursive;font-size:100%;color:black;text-align:right;border-radius:10px 10px;\">Follow me [Linkedin](www.linkedin.com/in/nash-n-sungur-333869289) | [Git Hub](https://api.whatsapp.com/send/?phone=%2B15853042959&text&type=phone_number&app_absent=0)</b>"
   ]
  },
  {
   "cell_type": "markdown",
   "id": "5ae0c44d",
   "metadata": {},
   "source": [
    "# Welcome\n",
    "\n",
    "In this project, a predictive deep learning model will be created. In order for the model to give accurate and proper results, first the data and features will be checked, the application of EDA processes.\n",
    "\n",
    "Then, a model for Multi-Class Classification will be created and the results will be evaluated. After some adjustments to get better results, the model will be deployed as the \"final model\".\n",
    "\n",
    "Please take a look at the findings and tasks before diving into the project."
   ]
  },
  {
   "cell_type": "markdown",
   "id": "adb6d45e",
   "metadata": {
    "cell_style": "center"
   },
   "source": [
    "## Import  libraries & data"
   ]
  },
  {
   "cell_type": "code",
   "execution_count": null,
   "id": "86c4320e",
   "metadata": {
    "ExecuteTime": {
     "start_time": "2024-01-13T09:06:44.809Z"
    },
    "cell_style": "center",
    "executionInfo": {
     "elapsed": 991,
     "status": "ok",
     "timestamp": 1610201325502,
     "user": {
      "displayName": "Richard C",
      "photoUrl": "",
      "userId": "08040814671867660929"
     },
     "user_tz": -180
    },
    "id": "6VD4eWBQcze2"
   },
   "outputs": [],
   "source": [
    "import numpy as np\n",
    "import pandas as pd\n",
    "import seaborn as sns\n",
    "import matplotlib.pyplot as plt\n",
    "\n",
    "%matplotlib inline\n",
    "# %matplotlib notebook\n",
    "plt.rcParams[\"figure.figsize\"] = (12, 6)\n",
    "# plt.rcParams['figure.dpi'] = 100\n",
    "sns.set_style(\"whitegrid\")\n",
    "import warnings\n",
    "\n",
    "warnings.filterwarnings(\"ignore\")\n",
    "warnings.warn(\"this will not show\")\n",
    "pd.set_option('display.float_format', lambda x: '%.3f' % x)"
   ]
  },
  {
   "cell_type": "code",
   "execution_count": null,
   "id": "911e1cd3",
   "metadata": {
    "ExecuteTime": {
     "start_time": "2024-01-13T09:06:44.830Z"
    }
   },
   "outputs": [],
   "source": [
    "df = pd.read_csv(\"Score.csv\")\n",
    "df.head()"
   ]
  },
  {
   "cell_type": "code",
   "execution_count": null,
   "id": "e85a6eda",
   "metadata": {
    "ExecuteTime": {
     "start_time": "2024-01-13T09:06:44.852Z"
    }
   },
   "outputs": [],
   "source": [
    "df.info()"
   ]
  },
  {
   "cell_type": "markdown",
   "id": "13e854d6",
   "metadata": {
    "ExecuteTime": {
     "end_time": "2024-01-09T18:26:41.799430Z",
     "start_time": "2024-01-09T18:26:41.781852Z"
    }
   },
   "source": [
    "# Determines\n",
    "\n",
    "**Delay_from_due_date:** It refers to the delay between the payment date and the overdue date. This delay indicates how many days the payment is made after the due date.\n",
    "\n",
    "**Num_of_Delayed_Payment:** It represents the number of past due payments for a particular account or customer. This feature indicates how often the customer makes payments after maturity.\n",
    "\n",
    "**Num_Credit_Inquiries:** It shows the number of credit inquiries made during a specific time period regarding the credit history of a particular customer or account. This feature refers to the number of queries made about the customer's credit history.\n",
    "\n",
    "**Credit_Utilization_Ratio:** It expresses the amount of credit used by a customer as a percentage based on his or her existing credit limits. This ratio shows the customer's credit usage habits by comparing the customer's current credit usage to the current credit limit. For example, if a customer's credit limit is 10,000 TL and this customer used a loan of 2,000 TL, the credit utilization rate will be 20%.\n",
    "\n",
    "**Credit_History_Age:** How long a customer's credit history is can be an indicator of their credit history and financial history. A longer credit history can often have a positive impact on credit score and credit risk assessments.\n",
    "\n",
    "**Payment_of_Min_Amount:** It is a feature that shows whether a customer has paid the minimum payment amount of his credit card or loan debt. This feature provides insight into the customer's payment habits and debt management.\n",
    "\n",
    "**Amount_invested_monthly:** It refers to the amount of investment made by a customer in a particular month. This feature shows how much the customer invests monthly. Investment amounts can often include investments in different financial instruments (stocks, bonds, funds, etc.) and provide information about the client's savings and investment habits.\n",
    "\n",
    "**Monthly_Balance:** It shows the remaining balance of a particular customer or account at the end of each month in the account during that month. This feature provides information about the financial status of the account over a specific period and gives insight into factors such as the customer's income-expense balance, spending habits or savings tendencies.\n",
    "**Credit_Score:** It is a numerical score determined by evaluating factors such as a customer's credit history, payment habits, debts and financial situation. This score is an important metric that lenders use when evaluating their customers.\n",
    "\n",
    "**Credit_Mix:** Credit diversity is important to a credit score because a balanced use of different types of credit (e.g., credit cards, mortgages) diversifies credit history and payment habits, which can create a higher credit score.\n",
    "\n",
    "**Payment_Behaviour:** Payment habit is a critical factor in determining credit score. While regular payments support a high credit score, delays or missing payments can negatively impact your credit score.\n",
    "\n",
    "**Age:** Age can affect credit score because it is often associated with a longer credit history and financial experience. A history of long-term, regular payments can often result in a higher credit score.\n",
    "\n",
    "**Annual_Income:** Annual income is important in credit score evaluation because income level can reflect a person's ability to pay. Higher income can often indicate more credit and better ability to pay.\n",
    "\n",
    "**Num_Bank_Accounts:** Multiple bank accounts can show financial stability and diversification, which can positively impact your credit score. Relationship with different financial institutions can help establish credit history.\n",
    "\n",
    "**Num_of_Delayed_Payment:** It represents the number of past due payments for a particular account or customer. This feature indicates how often the customer makes payments after maturity.\n",
    "\n",
    "**Num_Credit_Card:** Having more than one credit card can affect your credit score because it can be associated with factors such as varying credit usage and increasing limits.\n",
    "\n",
    "**Interest_Rate:** The interest rates applied are especially important in terms of regularity and convenience in loan payments. Lower interest rates mean easier payments and lower costs, which can positively impact your credit score.\n",
    "\n",
    "**Num_of_Loan:** Multiple loans or debts may reflect payment habits and debt management. However, excessive borrowing can create a risky situation and reduce your credit score.\n",
    "\n",
    "**Monthly_Inhand_Salary:** The amount of monthly net income indicates the payment capacity and affects the ability to pay off debts. Higher income is generally associated with a better credit score.\n",
    "\n",
    "**Changed_Credit_Limit:** Changes to the credit limit can reveal a customer's credit usage habits and credit requests, which can affect their credit score.\n",
    "\n",
    "**Outstanding_Debt:** Unpaid debts can negatively impact your credit score, especially when compared to your credit limit. High debts can increase credit risk.\n",
    "\n",
    "**Total_EMI_per_month:** The monthly installment amount indicates the client's ability to manage his debts. High installment payments may strain payment capacity and reduce credit score."
   ]
  },
  {
   "cell_type": "markdown",
   "id": "6ace8958",
   "metadata": {},
   "source": [
    "## Exploratory Data Analysis and Visualization"
   ]
  },
  {
   "cell_type": "code",
   "execution_count": null,
   "id": "c8a21812",
   "metadata": {
    "ExecuteTime": {
     "start_time": "2024-01-13T09:06:44.899Z"
    },
    "cell_style": "split",
    "colab": {
     "base_uri": "https://localhost:8080/"
    },
    "executionInfo": {
     "elapsed": 798,
     "status": "ok",
     "timestamp": 1610201657421,
     "user": {
      "displayName": "Richard C",
      "photoUrl": "",
      "userId": "08040814671867660929"
     },
     "user_tz": -180
    },
    "id": "vPyMUnVWfM0o",
    "outputId": "7a294ad3-49d9-4cea-b6a2-9824e2c0ba4a"
   },
   "outputs": [],
   "source": [
    "df.shape"
   ]
  },
  {
   "cell_type": "code",
   "execution_count": null,
   "id": "1a6cef21",
   "metadata": {
    "ExecuteTime": {
     "start_time": "2024-01-13T09:06:44.923Z"
    },
    "cell_style": "split"
   },
   "outputs": [],
   "source": [
    "df.isnull().sum().sum()"
   ]
  },
  {
   "cell_type": "code",
   "execution_count": null,
   "id": "aab06ebb",
   "metadata": {
    "ExecuteTime": {
     "start_time": "2024-01-13T09:06:44.941Z"
    },
    "cell_style": "split",
    "scrolled": true
   },
   "outputs": [],
   "source": [
    "df.duplicated().sum()"
   ]
  },
  {
   "cell_type": "code",
   "execution_count": null,
   "id": "e2211b19",
   "metadata": {
    "ExecuteTime": {
     "start_time": "2024-01-13T09:06:44.963Z"
    },
    "cell_style": "split",
    "colab": {
     "base_uri": "https://localhost:8080/",
     "height": 297
    },
    "executionInfo": {
     "elapsed": 1052,
     "status": "ok",
     "timestamp": 1610201940310,
     "user": {
      "displayName": "Richard C",
      "photoUrl": "",
      "userId": "08040814671867660929"
     },
     "user_tz": -180
    },
    "id": "_7vHUi5Hgldj",
    "outputId": "0018aaa8-d479-40c3-f973-161c63e7a77b"
   },
   "outputs": [],
   "source": [
    "print(df.Credit_Score.value_counts())\n",
    "sns.countplot(df[\"Credit_Score\"]);      # unbalanced "
   ]
  },
  {
   "cell_type": "code",
   "execution_count": null,
   "id": "6b8d057a",
   "metadata": {
    "ExecuteTime": {
     "start_time": "2024-01-13T09:06:44.984Z"
    },
    "cell_style": "center",
    "colab": {
     "base_uri": "https://localhost:8080/",
     "height": 1000
    },
    "executionInfo": {
     "elapsed": 967,
     "status": "ok",
     "timestamp": 1610201729941,
     "user": {
      "displayName": "Richard C",
      "photoUrl": "",
      "userId": "08040814671867660929"
     },
     "user_tz": -180
    },
    "id": "mdUkgZD-gCUx",
    "outputId": "cd4f6662-e8c3-4a6f-93d5-26fed83d8a82",
    "scrolled": false
   },
   "outputs": [],
   "source": [
    "df.describe().T"
   ]
  },
  {
   "cell_type": "code",
   "execution_count": null,
   "id": "e9053550",
   "metadata": {
    "ExecuteTime": {
     "start_time": "2024-01-13T09:06:45.011Z"
    },
    "cell_style": "split",
    "scrolled": false
   },
   "outputs": [],
   "source": [
    "df.hist(figsize=(15, 12), bins=15);"
   ]
  },
  {
   "cell_type": "code",
   "execution_count": null,
   "id": "e5ac5297",
   "metadata": {
    "ExecuteTime": {
     "start_time": "2024-01-13T09:06:45.032Z"
    }
   },
   "outputs": [],
   "source": [
    "sns.histplot(df[\"Amount_invested_monthly\"]);"
   ]
  },
  {
   "cell_type": "code",
   "execution_count": null,
   "id": "919c4634",
   "metadata": {
    "ExecuteTime": {
     "start_time": "2024-01-13T09:06:45.058Z"
    }
   },
   "outputs": [],
   "source": [
    "def categori_maker(value):\n",
    "    if value < 100:\n",
    "        return \"small\"\n",
    "    elif 100 <= value < 250:\n",
    "        return \"middle\"\n",
    "    else:\n",
    "        return \"much\"\n",
    "    \n",
    "df[\"Amount_invested_monthly\"] = df[\"Amount_invested_monthly\"].apply(categori_maker)\n",
    "df[\"Amount_invested_monthly\"].value_counts()"
   ]
  },
  {
   "cell_type": "code",
   "execution_count": null,
   "id": "ef922cbd",
   "metadata": {
    "ExecuteTime": {
     "start_time": "2024-01-13T09:06:45.082Z"
    }
   },
   "outputs": [],
   "source": [
    "sns.histplot(df[\"Total_EMI_per_month\"]);"
   ]
  },
  {
   "cell_type": "code",
   "execution_count": null,
   "id": "fa21fe0e",
   "metadata": {
    "ExecuteTime": {
     "start_time": "2024-01-13T09:06:45.108Z"
    }
   },
   "outputs": [],
   "source": [
    "def categori_maker(value):\n",
    "    if value < 5:\n",
    "        return \"little\"\n",
    "    elif 10 <= value < 50:\n",
    "        return \"middle\"\n",
    "    else:\n",
    "        return \"very\"\n",
    "    \n",
    "df[\"Total_EMI_per_month\"] = df[\"Total_EMI_per_month\"].apply(categori_maker)\n",
    "df[\"Total_EMI_per_month\"].value_counts()"
   ]
  },
  {
   "cell_type": "code",
   "execution_count": null,
   "id": "0dc4cbb7",
   "metadata": {
    "ExecuteTime": {
     "start_time": "2024-01-13T09:06:45.137Z"
    }
   },
   "outputs": [],
   "source": [
    "sns.histplot(df[\"Monthly_Inhand_Salary\"]);"
   ]
  },
  {
   "cell_type": "code",
   "execution_count": null,
   "id": "3046f32f",
   "metadata": {
    "ExecuteTime": {
     "start_time": "2024-01-13T09:06:45.165Z"
    }
   },
   "outputs": [],
   "source": [
    "def categori_maker(value):\n",
    "    if value < 2000:\n",
    "        return \"low\"\n",
    "    elif 2000 <= value < 6000:\n",
    "        return \"mid\"\n",
    "    else:\n",
    "        return \"high\"\n",
    "    \n",
    "df[\"Monthly_Inhand_Salary\"] = df[\"Monthly_Inhand_Salary\"].apply(categori_maker)\n",
    "df[\"Monthly_Inhand_Salary\"].value_counts()"
   ]
  },
  {
   "cell_type": "code",
   "execution_count": null,
   "id": "89ab8875",
   "metadata": {
    "ExecuteTime": {
     "start_time": "2024-01-13T09:06:45.193Z"
    }
   },
   "outputs": [],
   "source": [
    "sns.histplot(df[\"Annual_Income\"]);"
   ]
  },
  {
   "cell_type": "code",
   "execution_count": null,
   "id": "d0fa09b7",
   "metadata": {
    "ExecuteTime": {
     "start_time": "2024-01-13T09:06:45.243Z"
    }
   },
   "outputs": [],
   "source": [
    "def categori_maker(value):\n",
    "    if value < 25000:\n",
    "        return \"few\"\n",
    "    elif 25000 <= value < 75000:\n",
    "        return \"medium\"\n",
    "    else:\n",
    "        return \"much\"\n",
    "    \n",
    "df[\"Annual_Income\"] = df[\"Annual_Income\"].apply(categori_maker)\n",
    "df[\"Annual_Income\"].value_counts()"
   ]
  },
  {
   "cell_type": "code",
   "execution_count": null,
   "id": "83822672",
   "metadata": {
    "ExecuteTime": {
     "start_time": "2024-01-13T09:06:45.297Z"
    }
   },
   "outputs": [],
   "source": [
    "sns.histplot(df[\"Monthly_Balance\"]);"
   ]
  },
  {
   "cell_type": "code",
   "execution_count": null,
   "id": "02b51c50",
   "metadata": {
    "ExecuteTime": {
     "start_time": "2024-01-13T09:06:45.331Z"
    }
   },
   "outputs": [],
   "source": [
    "def categori_maker(value):\n",
    "    if value < 300:\n",
    "        return \"less\"\n",
    "    elif 300 <= value < 500:\n",
    "        return \"central\"\n",
    "    else:\n",
    "        return \"a_lot\"\n",
    "    \n",
    "df[\"Monthly_Balance\"] = df[\"Monthly_Balance\"].apply(categori_maker)\n",
    "df[\"Monthly_Balance\"].value_counts()"
   ]
  },
  {
   "cell_type": "code",
   "execution_count": null,
   "id": "e7326b69",
   "metadata": {
    "ExecuteTime": {
     "start_time": "2024-01-13T09:06:45.368Z"
    }
   },
   "outputs": [],
   "source": [
    "df.hist(figsize=(15, 12), bins=15);"
   ]
  },
  {
   "cell_type": "code",
   "execution_count": null,
   "id": "849eb5f8",
   "metadata": {
    "ExecuteTime": {
     "start_time": "2024-01-13T09:06:45.402Z"
    }
   },
   "outputs": [],
   "source": [
    "df[\"Credit_Score\"] = df.Credit_Score.map({\"Good\" : 0, \"Standard\" : 1,\"Poor\" : 2})\n",
    "df.Credit_Score.value_counts()           # \"Good\" : 0, \"Standard\" : 1,\"Poor\" : 2"
   ]
  },
  {
   "cell_type": "code",
   "execution_count": null,
   "id": "446b8ece",
   "metadata": {
    "ExecuteTime": {
     "start_time": "2024-01-13T09:06:45.434Z"
    },
    "cell_style": "center",
    "colab": {
     "base_uri": "https://localhost:8080/",
     "height": 981
    },
    "executionInfo": {
     "elapsed": 5978,
     "status": "ok",
     "timestamp": 1610202268770,
     "user": {
      "displayName": "Richard C",
      "photoUrl": "",
      "userId": "08040814671867660929"
     },
     "user_tz": -180
    },
    "id": "fNDK3HprhSU3",
    "outputId": "98fe8eba-dc36-4cc7-96ad-ff61182d12a2",
    "scrolled": false
   },
   "outputs": [],
   "source": [
    "plt.figure(figsize=(16, 12))\n",
    "sns.heatmap(df.corr(), annot=True, cmap='viridis');"
   ]
  },
  {
   "cell_type": "code",
   "execution_count": null,
   "id": "c6668b8c",
   "metadata": {
    "ExecuteTime": {
     "start_time": "2024-01-13T09:06:45.466Z"
    }
   },
   "outputs": [],
   "source": [
    "df.drop(['Annual_Income'], axis=1, inplace=True)"
   ]
  },
  {
   "cell_type": "code",
   "execution_count": null,
   "id": "974ae8d0",
   "metadata": {
    "ExecuteTime": {
     "start_time": "2024-01-13T09:06:45.497Z"
    },
    "scrolled": false
   },
   "outputs": [],
   "source": [
    "# from sklearn.preprocessing import OrdinalEncoder\n",
    "\n",
    "# encoder = OrdinalEncoder()\n",
    "# encoded_columns = encoder.fit_transform(df[['Credit_Score', 'Payment_of_Min_Amount','Credit_Mix', 'Payment_Behaviour']])\n",
    "\n",
    "# df[['Credit_Score', 'Payment_of_Min_Amount','Credit_Mix', 'Payment_Behaviour']] = encoded_columns\n",
    "df = pd.get_dummies(df, drop_first=True)\n",
    "df.head()"
   ]
  },
  {
   "cell_type": "code",
   "execution_count": null,
   "id": "edc1ed48",
   "metadata": {
    "ExecuteTime": {
     "start_time": "2024-01-13T09:06:45.526Z"
    }
   },
   "outputs": [],
   "source": [
    "df.shape"
   ]
  },
  {
   "cell_type": "code",
   "execution_count": null,
   "id": "c3b61da5",
   "metadata": {
    "ExecuteTime": {
     "start_time": "2024-01-13T09:06:45.553Z"
    },
    "cell_style": "center",
    "colab": {
     "base_uri": "https://localhost:8080/",
     "height": 391
    },
    "executionInfo": {
     "elapsed": 1405,
     "status": "ok",
     "timestamp": 1610203065835,
     "user": {
      "displayName": "Richard C",
      "photoUrl": "",
      "userId": "08040814671867660929"
     },
     "user_tz": -180
    },
    "id": "IasR3c8ajeC0",
    "outputId": "4742bedb-e6bc-4967-f1cd-c36f7610f33e",
    "scrolled": false
   },
   "outputs": [],
   "source": [
    "df.corr()['Credit_Score'][:-1].sort_values().plot.barh();"
   ]
  },
  {
   "cell_type": "code",
   "execution_count": null,
   "id": "89894472",
   "metadata": {
    "ExecuteTime": {
     "start_time": "2024-01-13T09:06:45.574Z"
    }
   },
   "outputs": [],
   "source": [
    "plt.figure(figsize=(16, 12))\n",
    "sns.heatmap(df.corr(), annot=True, cmap='viridis');"
   ]
  },
  {
   "cell_type": "code",
   "execution_count": null,
   "id": "107279f1",
   "metadata": {
    "ExecuteTime": {
     "start_time": "2024-01-13T09:06:45.603Z"
    }
   },
   "outputs": [],
   "source": [
    "# df2 = df.sample(n=10000, random_state=42)\n",
    "# df2.shape"
   ]
  },
  {
   "cell_type": "code",
   "execution_count": null,
   "id": "f2d73b43",
   "metadata": {
    "ExecuteTime": {
     "start_time": "2024-01-13T09:06:45.630Z"
    }
   },
   "outputs": [],
   "source": [
    "df.shape"
   ]
  },
  {
   "cell_type": "markdown",
   "id": "bc3e70f2",
   "metadata": {},
   "source": [
    "## Preprocessing of Data"
   ]
  },
  {
   "cell_type": "code",
   "execution_count": null,
   "id": "b5c18e39",
   "metadata": {
    "ExecuteTime": {
     "start_time": "2024-01-13T09:06:45.666Z"
    },
    "executionInfo": {
     "elapsed": 764,
     "status": "ok",
     "timestamp": 1610203310512,
     "user": {
      "displayName": "Richard C",
      "photoUrl": "",
      "userId": "08040814671867660929"
     },
     "user_tz": -180
    },
    "id": "DjY-ZSPWka7D"
   },
   "outputs": [],
   "source": [
    "from sklearn.model_selection import train_test_split\n",
    "from sklearn.preprocessing import MinMaxScaler"
   ]
  },
  {
   "cell_type": "code",
   "execution_count": null,
   "id": "37828ea2",
   "metadata": {
    "ExecuteTime": {
     "start_time": "2024-01-13T09:06:45.691Z"
    },
    "cell_style": "center",
    "executionInfo": {
     "elapsed": 1126,
     "status": "ok",
     "timestamp": 1610203246314,
     "user": {
      "displayName": "Richard C",
      "photoUrl": "",
      "userId": "08040814671867660929"
     },
     "user_tz": -180
    },
    "id": "kjyTH753lq7M"
   },
   "outputs": [],
   "source": [
    "X = df.drop('Credit_Score', axis=1).values\n",
    "y = df['Credit_Score'].values\n",
    "seed = 42\n",
    "X_train, X_test, y_train, y_test = train_test_split(X,\n",
    "                                                    y,\n",
    "                                                    stratify=y,\n",
    "                                                    test_size=0.1,\n",
    "                                                    random_state=seed)"
   ]
  },
  {
   "cell_type": "code",
   "execution_count": null,
   "id": "08b95a37",
   "metadata": {
    "ExecuteTime": {
     "start_time": "2024-01-13T09:06:45.714Z"
    },
    "cell_style": "split"
   },
   "outputs": [],
   "source": [
    "scaler = MinMaxScaler()"
   ]
  },
  {
   "cell_type": "code",
   "execution_count": null,
   "id": "6d782a53",
   "metadata": {
    "ExecuteTime": {
     "start_time": "2024-01-13T09:06:45.746Z"
    },
    "cell_style": "split",
    "executionInfo": {
     "elapsed": 696,
     "status": "ok",
     "timestamp": 1610203508023,
     "user": {
      "displayName": "Richard C",
      "photoUrl": "",
      "userId": "08040814671867660929"
     },
     "user_tz": -180
    },
    "id": "Fgy3D9SBmWcq"
   },
   "outputs": [],
   "source": [
    "X_train = scaler.fit_transform(X_train)\n",
    "X_test = scaler.transform(X_test)"
   ]
  },
  {
   "cell_type": "markdown",
   "id": "3c781935",
   "metadata": {
    "id": "Ha9hDt_AoGaE"
   },
   "source": [
    "## Modelling & Model Performance"
   ]
  },
  {
   "cell_type": "code",
   "execution_count": null,
   "id": "eaf44866",
   "metadata": {
    "ExecuteTime": {
     "start_time": "2024-01-13T09:06:45.788Z"
    },
    "cell_style": "center",
    "executionInfo": {
     "elapsed": 829,
     "status": "ok",
     "timestamp": 1610204616389,
     "user": {
      "displayName": "Richard C",
      "photoUrl": "",
      "userId": "08040814671867660929"
     },
     "user_tz": -180
    },
    "id": "YzzxpfNaoFyZ"
   },
   "outputs": [],
   "source": [
    "import tensorflow as tf\n",
    "from tensorflow.keras.models import Sequential\n",
    "from tensorflow.keras.layers import Dense, Activation, Dropout, BatchNormalization\n",
    "from tensorflow.keras.callbacks import EarlyStopping\n",
    "from sklearn.metrics import classification_report, confusion_matrix\n",
    "from sklearn.metrics import roc_auc_score, roc_curve, precision_recall_curve, average_precision_score\n",
    "from sklearn.metrics import mean_squared_error, mean_absolute_error, explained_variance_score, r2_score\n",
    "from sklearn.metrics import accuracy_score, f1_score, precision_score, recall_score\n",
    "\n",
    "from sklearn.utils import class_weight\n",
    "\n",
    "from tensorflow.keras.optimizers import Adam"
   ]
  },
  {
   "cell_type": "code",
   "execution_count": null,
   "id": "88f5c533",
   "metadata": {
    "ExecuteTime": {
     "start_time": "2024-01-13T09:06:15.362Z"
    }
   },
   "outputs": [],
   "source": [
    "# 1.YeniModel\n",
    "\n",
    "tf.random.set_seed(seed)\n",
    "\n",
    "model = Sequential()\n",
    "\n",
    "# model.add(Dense(units=128, activation=\"relu\"))\n",
    "# model.add(BatchNormalization())\n",
    "# model.add(Dropout(0.2))\n",
    "model.add(Dense(units=64, activation=\"relu\"))\n",
    "model.add(Dropout(0.2))\n",
    "model.add(Dense(units=32, activation=\"relu\"))\n",
    "model.add(BatchNormalization())\n",
    "model.add(Dense(units=16, activation=\"relu\"))\n",
    "model.add(BatchNormalization())\n",
    "model.add(Dropout(0.2))\n",
    "model.add(Dense(units=8, activation=\"relu\"))\n",
    "model.add(BatchNormalization())\n",
    "model.add(Dropout(0.2))\n",
    "model.add(Dense(units=3, activation=\"softmax\"))\n",
    "\n",
    "opt = Adam(learning_rate=0.001)\n",
    "\n",
    "model.compile(optimizer=opt, \n",
    "              loss=\"sparse_categorical_crossentropy\",\n",
    "              metrics=[\"accuracy\"],\n",
    "             run_eagerly=True)\n",
    "\n",
    "early_stop = EarlyStopping(monitor=\"val_loss\",\n",
    "                           mode=\"auto\",\n",
    "                           verbose=1,\n",
    "                           patience=50)\n",
    "\n",
    "class_weights = class_weight.compute_class_weight('balanced',\n",
    "                                                  classes=np.unique(y_train),\n",
    "                                                  y=y_train)\n",
    "\n",
    "class_weights = {0: class_weights[0], 1: class_weights[1], 2: class_weights[2]}\n",
    "\n",
    "model.fit(x=X_train,\n",
    "          y=y_train,\n",
    "          validation_split=0.1,\n",
    "          batch_size=32,\n",
    "          epochs=500,\n",
    "          verbose=1,\n",
    "          callbacks=[early_stop],\n",
    "          class_weight=class_weights)"
   ]
  },
  {
   "cell_type": "code",
   "execution_count": null,
   "id": "075c0720",
   "metadata": {
    "ExecuteTime": {
     "end_time": "2024-01-12T22:42:21.538622Z",
     "start_time": "2024-01-12T22:42:21.538622Z"
    },
    "scrolled": false
   },
   "outputs": [],
   "source": [
    "y_pred = model.predict(X_test).argmax(axis=1)\n",
    "print(confusion_matrix(y_test, y_pred))\n",
    "print(classification_report(y_test, y_pred))\n",
    "y_train_pred = model.predict(X_train).argmax(axis=1)\n",
    "print(confusion_matrix(y_train, y_train_pred))\n",
    "print(classification_report(y_train, y_train_pred))"
   ]
  },
  {
   "cell_type": "code",
   "execution_count": 78,
   "id": "001df352",
   "metadata": {
    "ExecuteTime": {
     "end_time": "2024-01-12T16:56:30.781926Z",
     "start_time": "2024-01-12T16:25:03.990051Z"
    }
   },
   "outputs": [
    {
     "name": "stdout",
     "output_type": "stream",
     "text": [
      "Epoch 1/500\n",
      "254/254 [==============================] - 16s 64ms/step - loss: 0.8702 - accuracy: 0.5959 - val_loss: 0.8600 - val_accuracy: 0.6489\n",
      "Epoch 2/500\n",
      "254/254 [==============================] - 16s 63ms/step - loss: 0.7847 - accuracy: 0.6437 - val_loss: 0.8087 - val_accuracy: 0.6511\n",
      "Epoch 3/500\n",
      "254/254 [==============================] - 16s 63ms/step - loss: 0.7759 - accuracy: 0.6491 - val_loss: 0.8336 - val_accuracy: 0.6478\n",
      "Epoch 4/500\n",
      "254/254 [==============================] - 16s 63ms/step - loss: 0.7659 - accuracy: 0.6501 - val_loss: 0.8101 - val_accuracy: 0.6500\n",
      "Epoch 5/500\n",
      "254/254 [==============================] - 16s 63ms/step - loss: 0.7562 - accuracy: 0.6553 - val_loss: 0.7839 - val_accuracy: 0.6489\n",
      "Epoch 6/500\n",
      "254/254 [==============================] - 16s 63ms/step - loss: 0.7498 - accuracy: 0.6572 - val_loss: 0.8220 - val_accuracy: 0.6489\n",
      "Epoch 7/500\n",
      "254/254 [==============================] - 16s 63ms/step - loss: 0.7459 - accuracy: 0.6535 - val_loss: 0.7978 - val_accuracy: 0.6544\n",
      "Epoch 8/500\n",
      "254/254 [==============================] - 16s 63ms/step - loss: 0.7473 - accuracy: 0.6557 - val_loss: 0.7969 - val_accuracy: 0.6522\n",
      "Epoch 9/500\n",
      "254/254 [==============================] - 16s 63ms/step - loss: 0.7387 - accuracy: 0.6632 - val_loss: 0.7763 - val_accuracy: 0.6522\n",
      "Epoch 10/500\n",
      "254/254 [==============================] - 16s 63ms/step - loss: 0.7445 - accuracy: 0.6525 - val_loss: 0.7658 - val_accuracy: 0.6544\n",
      "Epoch 11/500\n",
      "254/254 [==============================] - 16s 62ms/step - loss: 0.7368 - accuracy: 0.6598 - val_loss: 0.8052 - val_accuracy: 0.6467\n",
      "Epoch 12/500\n",
      "254/254 [==============================] - 16s 62ms/step - loss: 0.7363 - accuracy: 0.6499 - val_loss: 0.7744 - val_accuracy: 0.6867\n",
      "Epoch 13/500\n",
      "254/254 [==============================] - 16s 62ms/step - loss: 0.7256 - accuracy: 0.6612 - val_loss: 0.7834 - val_accuracy: 0.6511\n",
      "Epoch 14/500\n",
      "254/254 [==============================] - 16s 63ms/step - loss: 0.7283 - accuracy: 0.6610 - val_loss: 0.7852 - val_accuracy: 0.6556\n",
      "Epoch 15/500\n",
      "254/254 [==============================] - 16s 63ms/step - loss: 0.7302 - accuracy: 0.6632 - val_loss: 0.7826 - val_accuracy: 0.6544\n",
      "Epoch 16/500\n",
      "254/254 [==============================] - 16s 63ms/step - loss: 0.7280 - accuracy: 0.6644 - val_loss: 0.7944 - val_accuracy: 0.6456\n",
      "Epoch 17/500\n",
      "254/254 [==============================] - 16s 63ms/step - loss: 0.7288 - accuracy: 0.6623 - val_loss: 0.7820 - val_accuracy: 0.6478\n",
      "Epoch 18/500\n",
      "254/254 [==============================] - 16s 62ms/step - loss: 0.7260 - accuracy: 0.6616 - val_loss: 0.7952 - val_accuracy: 0.6522\n",
      "Epoch 19/500\n",
      "254/254 [==============================] - 16s 63ms/step - loss: 0.7244 - accuracy: 0.6669 - val_loss: 0.7697 - val_accuracy: 0.6533\n",
      "Epoch 20/500\n",
      "254/254 [==============================] - 16s 63ms/step - loss: 0.7255 - accuracy: 0.6660 - val_loss: 0.8011 - val_accuracy: 0.6489\n",
      "Epoch 21/500\n",
      "254/254 [==============================] - 16s 63ms/step - loss: 0.7187 - accuracy: 0.6610 - val_loss: 0.8128 - val_accuracy: 0.6489\n",
      "Epoch 22/500\n",
      "254/254 [==============================] - 16s 62ms/step - loss: 0.7218 - accuracy: 0.6601 - val_loss: 0.7631 - val_accuracy: 0.6833\n",
      "Epoch 23/500\n",
      "254/254 [==============================] - 16s 63ms/step - loss: 0.7205 - accuracy: 0.6626 - val_loss: 0.7830 - val_accuracy: 0.6556\n",
      "Epoch 24/500\n",
      "254/254 [==============================] - 16s 62ms/step - loss: 0.7194 - accuracy: 0.6665 - val_loss: 0.7868 - val_accuracy: 0.6467\n",
      "Epoch 25/500\n",
      "254/254 [==============================] - 16s 62ms/step - loss: 0.7198 - accuracy: 0.6610 - val_loss: 0.7792 - val_accuracy: 0.6444\n",
      "Epoch 26/500\n",
      "254/254 [==============================] - 16s 62ms/step - loss: 0.7126 - accuracy: 0.6664 - val_loss: 0.7561 - val_accuracy: 0.6589\n",
      "Epoch 27/500\n",
      "254/254 [==============================] - 16s 62ms/step - loss: 0.7138 - accuracy: 0.6621 - val_loss: 0.7760 - val_accuracy: 0.6400\n",
      "Epoch 28/500\n",
      "254/254 [==============================] - 16s 62ms/step - loss: 0.7140 - accuracy: 0.6627 - val_loss: 0.7669 - val_accuracy: 0.6456\n",
      "Epoch 29/500\n",
      "254/254 [==============================] - 16s 62ms/step - loss: 0.7068 - accuracy: 0.6683 - val_loss: 0.8107 - val_accuracy: 0.6411\n",
      "Epoch 30/500\n",
      "254/254 [==============================] - 16s 63ms/step - loss: 0.7112 - accuracy: 0.6679 - val_loss: 0.7864 - val_accuracy: 0.6600\n",
      "Epoch 31/500\n",
      "254/254 [==============================] - 16s 63ms/step - loss: 0.7083 - accuracy: 0.6736 - val_loss: 0.8051 - val_accuracy: 0.6644\n",
      "Epoch 32/500\n",
      "254/254 [==============================] - 16s 63ms/step - loss: 0.7094 - accuracy: 0.6659 - val_loss: 0.7951 - val_accuracy: 0.6500\n",
      "Epoch 33/500\n",
      "254/254 [==============================] - 16s 62ms/step - loss: 0.7038 - accuracy: 0.6688 - val_loss: 0.7740 - val_accuracy: 0.6567\n",
      "Epoch 34/500\n",
      "254/254 [==============================] - 16s 62ms/step - loss: 0.7086 - accuracy: 0.6620 - val_loss: 0.7752 - val_accuracy: 0.6489\n",
      "Epoch 35/500\n",
      "254/254 [==============================] - 16s 62ms/step - loss: 0.7134 - accuracy: 0.6630 - val_loss: 0.7825 - val_accuracy: 0.6511\n",
      "Epoch 36/500\n",
      "254/254 [==============================] - 16s 62ms/step - loss: 0.7028 - accuracy: 0.6691 - val_loss: 0.7748 - val_accuracy: 0.6678\n",
      "Epoch 37/500\n",
      "254/254 [==============================] - 16s 62ms/step - loss: 0.7010 - accuracy: 0.6704 - val_loss: 0.7620 - val_accuracy: 0.6467\n",
      "Epoch 38/500\n",
      "254/254 [==============================] - 16s 63ms/step - loss: 0.7073 - accuracy: 0.6617 - val_loss: 0.7827 - val_accuracy: 0.6456\n",
      "Epoch 39/500\n",
      "254/254 [==============================] - 16s 62ms/step - loss: 0.6984 - accuracy: 0.6701 - val_loss: 0.7968 - val_accuracy: 0.6533\n",
      "Epoch 40/500\n",
      "254/254 [==============================] - 16s 62ms/step - loss: 0.7003 - accuracy: 0.6617 - val_loss: 0.7838 - val_accuracy: 0.6433\n",
      "Epoch 41/500\n",
      "254/254 [==============================] - 16s 62ms/step - loss: 0.7025 - accuracy: 0.6617 - val_loss: 0.7724 - val_accuracy: 0.6578\n",
      "Epoch 42/500\n",
      "254/254 [==============================] - 16s 62ms/step - loss: 0.6906 - accuracy: 0.6699 - val_loss: 0.7725 - val_accuracy: 0.6478\n",
      "Epoch 43/500\n",
      "254/254 [==============================] - 16s 62ms/step - loss: 0.6974 - accuracy: 0.6680 - val_loss: 0.7675 - val_accuracy: 0.6822\n",
      "Epoch 44/500\n",
      "254/254 [==============================] - 16s 62ms/step - loss: 0.6993 - accuracy: 0.6691 - val_loss: 0.7728 - val_accuracy: 0.6711\n",
      "Epoch 45/500\n",
      "254/254 [==============================] - 16s 62ms/step - loss: 0.6922 - accuracy: 0.6773 - val_loss: 0.7858 - val_accuracy: 0.6456\n",
      "Epoch 46/500\n",
      "254/254 [==============================] - 16s 62ms/step - loss: 0.6934 - accuracy: 0.6686 - val_loss: 0.7671 - val_accuracy: 0.6556\n",
      "Epoch 47/500\n",
      "254/254 [==============================] - 16s 62ms/step - loss: 0.6904 - accuracy: 0.6683 - val_loss: 0.7541 - val_accuracy: 0.6678\n",
      "Epoch 48/500\n",
      "254/254 [==============================] - 16s 62ms/step - loss: 0.6931 - accuracy: 0.6674 - val_loss: 0.7488 - val_accuracy: 0.6800\n",
      "Epoch 49/500\n",
      "254/254 [==============================] - 16s 63ms/step - loss: 0.6928 - accuracy: 0.6684 - val_loss: 0.7740 - val_accuracy: 0.6500\n",
      "Epoch 50/500\n",
      "254/254 [==============================] - 16s 62ms/step - loss: 0.6902 - accuracy: 0.6652 - val_loss: 0.7543 - val_accuracy: 0.6544\n",
      "Epoch 51/500\n",
      "254/254 [==============================] - 16s 63ms/step - loss: 0.6845 - accuracy: 0.6674 - val_loss: 0.7769 - val_accuracy: 0.6722\n",
      "Epoch 52/500\n",
      "254/254 [==============================] - 16s 62ms/step - loss: 0.6860 - accuracy: 0.6720 - val_loss: 0.7584 - val_accuracy: 0.6711\n",
      "Epoch 53/500\n",
      "254/254 [==============================] - 16s 63ms/step - loss: 0.6832 - accuracy: 0.6673 - val_loss: 0.7758 - val_accuracy: 0.6467\n",
      "Epoch 54/500\n",
      "254/254 [==============================] - 16s 62ms/step - loss: 0.6836 - accuracy: 0.6723 - val_loss: 0.7843 - val_accuracy: 0.6733\n",
      "Epoch 55/500\n",
      "254/254 [==============================] - 16s 63ms/step - loss: 0.6843 - accuracy: 0.6746 - val_loss: 0.7686 - val_accuracy: 0.6833\n",
      "Epoch 56/500\n",
      "254/254 [==============================] - 16s 63ms/step - loss: 0.6862 - accuracy: 0.6664 - val_loss: 0.7822 - val_accuracy: 0.6722\n",
      "Epoch 57/500\n",
      "254/254 [==============================] - 16s 62ms/step - loss: 0.6825 - accuracy: 0.6728 - val_loss: 0.7867 - val_accuracy: 0.6433\n",
      "Epoch 58/500\n",
      "254/254 [==============================] - 16s 62ms/step - loss: 0.6780 - accuracy: 0.6701 - val_loss: 0.7799 - val_accuracy: 0.6567\n",
      "Epoch 59/500\n",
      "254/254 [==============================] - 16s 63ms/step - loss: 0.6834 - accuracy: 0.6685 - val_loss: 0.7997 - val_accuracy: 0.6467\n",
      "Epoch 60/500\n",
      "254/254 [==============================] - 16s 62ms/step - loss: 0.6798 - accuracy: 0.6653 - val_loss: 0.7851 - val_accuracy: 0.6511\n",
      "Epoch 61/500\n",
      "254/254 [==============================] - 16s 63ms/step - loss: 0.6759 - accuracy: 0.6756 - val_loss: 0.7968 - val_accuracy: 0.6600\n",
      "Epoch 62/500\n",
      "254/254 [==============================] - 16s 62ms/step - loss: 0.6679 - accuracy: 0.6754 - val_loss: 0.8049 - val_accuracy: 0.6644\n",
      "Epoch 63/500\n",
      "254/254 [==============================] - 16s 62ms/step - loss: 0.6706 - accuracy: 0.6728 - val_loss: 0.8325 - val_accuracy: 0.6356\n",
      "Epoch 64/500\n",
      "254/254 [==============================] - 16s 62ms/step - loss: 0.6709 - accuracy: 0.6674 - val_loss: 0.8020 - val_accuracy: 0.6600\n",
      "Epoch 65/500\n",
      "254/254 [==============================] - 16s 62ms/step - loss: 0.6757 - accuracy: 0.6710 - val_loss: 0.7520 - val_accuracy: 0.6444\n",
      "Epoch 66/500\n",
      "254/254 [==============================] - 16s 62ms/step - loss: 0.6703 - accuracy: 0.6730 - val_loss: 0.8203 - val_accuracy: 0.6267\n",
      "Epoch 67/500\n",
      "254/254 [==============================] - 16s 62ms/step - loss: 0.6674 - accuracy: 0.6706 - val_loss: 0.8006 - val_accuracy: 0.6533\n",
      "Epoch 68/500\n",
      "254/254 [==============================] - 16s 62ms/step - loss: 0.6741 - accuracy: 0.6717 - val_loss: 0.7850 - val_accuracy: 0.6400\n",
      "Epoch 69/500\n",
      "254/254 [==============================] - 16s 62ms/step - loss: 0.6794 - accuracy: 0.6695 - val_loss: 0.7458 - val_accuracy: 0.6589\n",
      "Epoch 70/500\n",
      "254/254 [==============================] - 16s 62ms/step - loss: 0.6703 - accuracy: 0.6737 - val_loss: 0.7689 - val_accuracy: 0.6578\n",
      "Epoch 71/500\n",
      "254/254 [==============================] - 16s 62ms/step - loss: 0.6699 - accuracy: 0.6720 - val_loss: 0.7589 - val_accuracy: 0.6544\n",
      "Epoch 72/500\n",
      "254/254 [==============================] - 16s 62ms/step - loss: 0.6682 - accuracy: 0.6716 - val_loss: 0.7649 - val_accuracy: 0.6667\n",
      "Epoch 73/500\n",
      "254/254 [==============================] - 16s 63ms/step - loss: 0.6745 - accuracy: 0.6720 - val_loss: 0.7609 - val_accuracy: 0.6567\n",
      "Epoch 74/500\n",
      "254/254 [==============================] - 16s 62ms/step - loss: 0.6744 - accuracy: 0.6702 - val_loss: 0.8134 - val_accuracy: 0.6378\n",
      "Epoch 75/500\n",
      "254/254 [==============================] - 16s 62ms/step - loss: 0.6872 - accuracy: 0.6673 - val_loss: 0.7779 - val_accuracy: 0.6611\n",
      "Epoch 76/500\n",
      "254/254 [==============================] - 16s 63ms/step - loss: 0.6742 - accuracy: 0.6694 - val_loss: 0.7605 - val_accuracy: 0.6567\n",
      "Epoch 77/500\n",
      "254/254 [==============================] - 16s 62ms/step - loss: 0.6706 - accuracy: 0.6711 - val_loss: 0.7827 - val_accuracy: 0.6700\n",
      "Epoch 78/500\n",
      "254/254 [==============================] - 16s 62ms/step - loss: 0.6683 - accuracy: 0.6728 - val_loss: 0.7867 - val_accuracy: 0.6767\n",
      "Epoch 79/500\n",
      "254/254 [==============================] - 16s 62ms/step - loss: 0.6666 - accuracy: 0.6743 - val_loss: 0.8060 - val_accuracy: 0.6456\n",
      "Epoch 80/500\n",
      "254/254 [==============================] - 16s 63ms/step - loss: 0.6660 - accuracy: 0.6743 - val_loss: 0.8099 - val_accuracy: 0.6311\n",
      "Epoch 81/500\n",
      "254/254 [==============================] - 16s 63ms/step - loss: 0.6541 - accuracy: 0.6722 - val_loss: 0.8263 - val_accuracy: 0.6500\n",
      "Epoch 82/500\n",
      "254/254 [==============================] - 16s 62ms/step - loss: 0.6660 - accuracy: 0.6679 - val_loss: 0.7790 - val_accuracy: 0.6644\n",
      "Epoch 83/500\n",
      "254/254 [==============================] - 16s 62ms/step - loss: 0.6631 - accuracy: 0.6757 - val_loss: 0.7975 - val_accuracy: 0.6500\n",
      "Epoch 84/500\n",
      "254/254 [==============================] - 16s 62ms/step - loss: 0.6606 - accuracy: 0.6727 - val_loss: 0.7847 - val_accuracy: 0.6522\n",
      "Epoch 85/500\n",
      "254/254 [==============================] - 16s 63ms/step - loss: 0.6590 - accuracy: 0.6711 - val_loss: 0.7890 - val_accuracy: 0.6489\n",
      "Epoch 86/500\n",
      "254/254 [==============================] - 16s 62ms/step - loss: 0.6634 - accuracy: 0.6736 - val_loss: 0.8252 - val_accuracy: 0.6411\n",
      "Epoch 87/500\n",
      "254/254 [==============================] - 16s 62ms/step - loss: 0.6603 - accuracy: 0.6765 - val_loss: 0.8099 - val_accuracy: 0.6489\n",
      "Epoch 88/500\n",
      "254/254 [==============================] - 16s 62ms/step - loss: 0.6632 - accuracy: 0.6699 - val_loss: 0.7942 - val_accuracy: 0.6422\n",
      "Epoch 89/500\n",
      "254/254 [==============================] - 16s 62ms/step - loss: 0.6716 - accuracy: 0.6725 - val_loss: 0.7919 - val_accuracy: 0.6344\n",
      "Epoch 90/500\n",
      "254/254 [==============================] - 16s 62ms/step - loss: 0.6595 - accuracy: 0.6742 - val_loss: 0.7827 - val_accuracy: 0.6622\n",
      "Epoch 91/500\n",
      "254/254 [==============================] - 16s 62ms/step - loss: 0.6558 - accuracy: 0.6789 - val_loss: 0.8191 - val_accuracy: 0.6511\n",
      "Epoch 92/500\n",
      "254/254 [==============================] - 16s 62ms/step - loss: 0.6603 - accuracy: 0.6707 - val_loss: 0.7857 - val_accuracy: 0.6478\n",
      "Epoch 93/500\n",
      "254/254 [==============================] - 16s 62ms/step - loss: 0.6637 - accuracy: 0.6749 - val_loss: 0.7810 - val_accuracy: 0.6689\n",
      "Epoch 94/500\n",
      "254/254 [==============================] - 16s 62ms/step - loss: 0.6542 - accuracy: 0.6814 - val_loss: 0.7622 - val_accuracy: 0.6567\n",
      "Epoch 95/500\n",
      "254/254 [==============================] - 16s 62ms/step - loss: 0.6630 - accuracy: 0.6772 - val_loss: 0.8013 - val_accuracy: 0.6278\n",
      "Epoch 96/500\n",
      "254/254 [==============================] - 16s 62ms/step - loss: 0.6556 - accuracy: 0.6759 - val_loss: 0.7849 - val_accuracy: 0.6511\n",
      "Epoch 97/500\n",
      "254/254 [==============================] - 16s 62ms/step - loss: 0.6544 - accuracy: 0.6744 - val_loss: 0.7985 - val_accuracy: 0.6378\n",
      "Epoch 98/500\n",
      "254/254 [==============================] - 16s 63ms/step - loss: 0.6622 - accuracy: 0.6762 - val_loss: 0.7515 - val_accuracy: 0.6556\n",
      "Epoch 99/500\n",
      " 47/254 [====>.........................] - ETA: 12s - loss: 0.6477 - accuracy: 0.6695"
     ]
    }
   ],
   "source": [
    "# # 2.Yenimodel\n",
    "\n",
    "# tf.random.set_seed(seed)\n",
    "\n",
    "# model = Sequential()\n",
    "\n",
    "# model.add(Dense(units=64, activation=\"relu\"))\n",
    "# model.add(BatchNormalization())\n",
    "# #model.add(Dropout(0.2))\n",
    "# model.add(Dense(units=32, activation=\"relu\"))\n",
    "# model.add(Dropout(0.2))\n",
    "# model.add(Dense(units=16, activation=\"tanh\"))\n",
    "# model.add(BatchNormalization())\n",
    "# model.add(Dense(units=8, activation=\"tanh\"))\n",
    "# model.add(BatchNormalization())\n",
    "# #model.add(Dropout(0.2))\n",
    "# model.add(Dense(units=3, activation=\"softmax\"))\n",
    "\n",
    "# opt = Adam(learning_rate=0.003)\n",
    "\n",
    "# model.compile(optimizer=opt, \n",
    "#               loss=\"sparse_categorical_crossentropy\",\n",
    "#               metrics=[\"accuracy\"],\n",
    "#              run_eagerly=True)\n",
    "\n",
    "# early_stop = EarlyStopping(monitor=\"val_loss\",\n",
    "#                            mode=\"auto\",\n",
    "#                            verbose=1,\n",
    "#                            patience=50)\n",
    "\n",
    "# class_weights = class_weight.compute_class_weight('balanced',\n",
    "#                                                   classes=np.unique(y_train),\n",
    "#                                                   y=y_train)\n",
    "\n",
    "# class_weights = {0: class_weights[0], 1: class_weights[1], 2: class_weights[2]}\n",
    "\n",
    "# model.fit(x=X_train,\n",
    "#           y=y_train,\n",
    "#           validation_split=0.1,\n",
    "#           batch_size=32,\n",
    "#           epochs=500,\n",
    "#           verbose=1,\n",
    "#           callbacks=[early_stop],\n",
    "#           class_weight=class_weights)"
   ]
  },
  {
   "cell_type": "code",
   "execution_count": 79,
   "id": "24f4b5c4",
   "metadata": {
    "ExecuteTime": {
     "end_time": "2024-01-12T16:56:33.504465Z",
     "start_time": "2024-01-12T16:56:30.781926Z"
    },
    "scrolled": false
   },
   "outputs": [],
   "source": [
    "# y_pred = model.predict(X_test).argmax(axis=1)\n",
    "# print(confusion_matrix(y_test, y_pred))\n",
    "# print(classification_report(y_test, y_pred))\n",
    "# y_train_pred = model.predict(X_train).argmax(axis=1)\n",
    "# print(confusion_matrix(y_train, y_train_pred))\n",
    "# print(classification_report(y_train, y_train_pred))"
   ]
  },
  {
   "cell_type": "raw",
   "id": "ec7b765e",
   "metadata": {},
   "source": [
    "32/32 [==============================] - 0s 9ms/step\n",
    "[[151  17  12]\n",
    " [126 304 105]\n",
    " [ 40  28 217]]\n",
    "              precision    recall  f1-score   support\n",
    "\n",
    "           0       0.48      0.84      0.61       180\n",
    "           1       0.87      0.57      0.69       535\n",
    "           2       0.65      0.76      0.70       285\n",
    "\n",
    "    accuracy                           0.67      1000\n",
    "   macro avg       0.67      0.72      0.67      1000\n",
    "weighted avg       0.74      0.67      0.68      1000\n",
    "\n",
    "282/282 [==============================] - 2s 8ms/step\n",
    "[[1464  130   22]\n",
    " [1063 2775  976]\n",
    " [ 292  269 2009]]\n",
    "              precision    recall  f1-score   support\n",
    "\n",
    "           0       0.52      0.91      0.66      1616\n",
    "           1       0.87      0.58      0.69      4814\n",
    "           2       0.67      0.78      0.72      2570\n",
    "\n",
    "    accuracy                           0.69      9000\n",
    "   macro avg       0.69      0.75      0.69      9000\n",
    "weighted avg       0.75      0.69      0.70      9000"
   ]
  },
  {
   "cell_type": "raw",
   "id": "476485a7",
   "metadata": {},
   "source": [
    "32/32 [==============================] - 0s 9ms/step\n",
    "[[138  20  22]\n",
    " [109 286 140]\n",
    " [ 29  20 236]]\n",
    "              precision    recall  f1-score   support\n",
    "\n",
    "           0       0.50      0.77      0.61       180\n",
    "           1       0.88      0.53      0.66       535\n",
    "           2       0.59      0.83      0.69       285\n",
    "\n",
    "    accuracy                           0.66      1000\n",
    "   macro avg       0.66      0.71      0.65      1000\n",
    "weighted avg       0.73      0.66      0.66      1000\n",
    "\n",
    "282/282 [==============================] - 2s 8ms/step\n",
    "[[1392  118  106]\n",
    " [ 934 2602 1278]\n",
    " [ 232  185 2153]]\n",
    "              precision    recall  f1-score   support\n",
    "\n",
    "           0       0.54      0.86      0.67      1616\n",
    "           1       0.90      0.54      0.67      4814\n",
    "           2       0.61      0.84      0.71      2570\n",
    "\n",
    "    accuracy                           0.68      9000\n",
    "   macro avg       0.68      0.75      0.68      9000\n",
    "weighted avg       0.75      0.68      0.68      9000"
   ]
  },
  {
   "cell_type": "code",
   "execution_count": null,
   "id": "0ac99ac2",
   "metadata": {},
   "outputs": [],
   "source": []
  },
  {
   "cell_type": "code",
   "execution_count": null,
   "id": "94bb1d86",
   "metadata": {},
   "outputs": [],
   "source": []
  },
  {
   "cell_type": "code",
   "execution_count": null,
   "id": "3a54f5f7",
   "metadata": {},
   "outputs": [],
   "source": []
  },
  {
   "cell_type": "code",
   "execution_count": null,
   "id": "114910fd",
   "metadata": {},
   "outputs": [],
   "source": []
  },
  {
   "cell_type": "code",
   "execution_count": null,
   "id": "8f5f9180",
   "metadata": {},
   "outputs": [],
   "source": []
  },
  {
   "cell_type": "code",
   "execution_count": null,
   "id": "78940f17",
   "metadata": {},
   "outputs": [],
   "source": []
  },
  {
   "cell_type": "code",
   "execution_count": null,
   "id": "519a385e",
   "metadata": {},
   "outputs": [],
   "source": []
  },
  {
   "cell_type": "markdown",
   "id": "0d829fb5",
   "metadata": {},
   "source": [
    "## Comparison with ML"
   ]
  },
  {
   "cell_type": "markdown",
   "id": "ab17b25f",
   "metadata": {},
   "source": [
    "### Logistic Regression"
   ]
  },
  {
   "cell_type": "code",
   "execution_count": null,
   "id": "985f6eb2",
   "metadata": {
    "ExecuteTime": {
     "end_time": "2024-01-12T22:42:21.541037Z",
     "start_time": "2024-01-12T22:42:21.541037Z"
    }
   },
   "outputs": [],
   "source": [
    "from sklearn.linear_model import LogisticRegression ,LogisticRegressionCV"
   ]
  },
  {
   "cell_type": "code",
   "execution_count": null,
   "id": "7be23486",
   "metadata": {
    "ExecuteTime": {
     "end_time": "2024-01-12T22:42:21.543598Z",
     "start_time": "2024-01-12T22:42:21.543598Z"
    }
   },
   "outputs": [],
   "source": [
    "log_model=LogisticRegressionCV(class_weight='balanced')\n",
    "log_model.fit(X_train, y_train)\n",
    "y_pred = log_model.predict(X_test)\n",
    "print(confusion_matrix(y_test, y_pred))\n",
    "print(classification_report(y_test, y_pred))"
   ]
  },
  {
   "cell_type": "raw",
   "id": "fc6119e3",
   "metadata": {},
   "source": [
    "[[1461   45  276]\n",
    " [ 435 1929  535]\n",
    " [1080 1096 3139]]\n",
    "              precision    recall  f1-score   support\n",
    "\n",
    "         0.0       0.49      0.82      0.61      1782\n",
    "         1.0       0.63      0.67      0.65      2899\n",
    "         2.0       0.79      0.59      0.68      5315\n",
    "\n",
    "    accuracy                           0.65      9996\n",
    "   macro avg       0.64      0.69      0.65      9996\n",
    "weighted avg       0.69      0.65      0.66      9996\n"
   ]
  },
  {
   "cell_type": "markdown",
   "id": "c9ab18c5",
   "metadata": {},
   "source": [
    "### Random Forest"
   ]
  },
  {
   "cell_type": "code",
   "execution_count": null,
   "id": "1adc1086",
   "metadata": {
    "ExecuteTime": {
     "end_time": "2024-01-12T22:42:21.546333Z",
     "start_time": "2024-01-12T22:42:21.546333Z"
    }
   },
   "outputs": [],
   "source": [
    "from sklearn.ensemble import RandomForestClassifier\n"
   ]
  },
  {
   "cell_type": "code",
   "execution_count": null,
   "id": "b74b2ffa",
   "metadata": {
    "ExecuteTime": {
     "end_time": "2024-01-12T22:42:21.549369Z",
     "start_time": "2024-01-12T22:42:21.549369Z"
    }
   },
   "outputs": [],
   "source": [
    "rf_model = RandomForestClassifier(class_weight='balanced')\n",
    "rf_model.fit(X_train, y_train)\n",
    "y_pred = rf_model.predict(X_test)\n",
    "print(confusion_matrix(y_test, y_pred))\n",
    "print(classification_report(y_test, y_pred))"
   ]
  },
  {
   "cell_type": "raw",
   "id": "b3c246a6",
   "metadata": {},
   "source": [
    "[[1375    6  401]\n",
    " [   7 2442  450]\n",
    " [ 377  604 4334]]\n",
    "              precision    recall  f1-score   support\n",
    "\n",
    "         0.0       0.78      0.77      0.78      1782\n",
    "         1.0       0.80      0.84      0.82      2899\n",
    "         2.0       0.84      0.82      0.83      5315\n",
    "\n",
    "    accuracy                           0.82      9996\n",
    "   macro avg       0.81      0.81      0.81      9996\n",
    "weighted avg       0.82      0.82      0.82      9996"
   ]
  },
  {
   "attachments": {
    "image.png": {
     "image/png": "[encoded data removed]"
    }
   },
   "cell_type": "markdown",
   "id": "d530e3b0",
   "metadata": {},
   "source": [
    "![image.png](attachment:image.png)"
   ]
  },
  {
   "cell_type": "code",
   "execution_count": null,
   "id": "7deef904",
   "metadata": {},
   "outputs": [],
   "source": []
  },
  {
   "cell_type": "code",
   "execution_count": null,
   "id": "43c02988",
   "metadata": {},
   "outputs": [],
   "source": []
  }
 ],
 "metadata": {
  "hide_input": false,
  "kernelspec": {
   "display_name": "Python 3 (ipykernel)",
   "language": "python",
   "name": "python3"
  },
  "language_info": {
   "codemirror_mode": {
    "name": "ipython",
    "version": 3
   },
   "file_extension": ".py",
   "mimetype": "text/x-python",
   "name": "python",
   "nbconvert_exporter": "python",
   "pygments_lexer": "ipython3",
   "version": "3.10.8"
  },
  "nbTranslate": {
   "displayLangs": [
    "*"
   ],
   "hotkey": "alt-t",
   "langInMainMenu": true,
   "sourceLang": "en",
   "targetLang": "fr",
   "useGoogleTranslate": true
  },
  "toc": {
   "base_numbering": 1,
   "nav_menu": {},
   "number_sections": true,
   "sideBar": true,
   "skip_h1_title": false,
   "title_cell": "Table of Contents",
   "title_sidebar": "Contents",
   "toc_cell": false,
   "toc_position": {},
   "toc_section_display": true,
   "toc_window_display": false
  }
 },
 "nbformat": 4,
 "nbformat_minor": 5
}
